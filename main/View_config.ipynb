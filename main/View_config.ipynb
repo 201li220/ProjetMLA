{
 "cells": [
  {
   "cell_type": "code",
   "execution_count": 4,
   "id": "8d7b65a4-cd1e-42d2-af88-564b7db3d8b0",
   "metadata": {},
   "outputs": [
    {
     "name": "stdout",
     "output_type": "stream",
     "text": [
      "Number of layers : 24\n",
      "Number of attention heads : 16\n",
      "Hidden size : 1024\n",
      "Adapter : True\n",
      "Adapter size : 16\n",
      "Total number of parameters in the model: 286410498\n"
     ]
    }
   ],
   "source": [
    "from utils.view_config import view_config\n",
    "from modified_transformers import BertConfig, BertForSequenceClassification\n",
    "\n",
    "view_config('Saved_Models/Run_15e/qqp_model.safetensors/config.json')"
   ]
  },
  {
   "cell_type": "code",
   "execution_count": null,
   "id": "8b6a38e0-4b59-445f-a3da-408771d395c5",
   "metadata": {},
   "outputs": [],
   "source": []
  }
 ],
 "metadata": {
  "kernelspec": {
   "display_name": "Python 3 (ipykernel)",
   "language": "python",
   "name": "python3"
  },
  "language_info": {
   "codemirror_mode": {
    "name": "ipython",
    "version": 3
   },
   "file_extension": ".py",
   "mimetype": "text/x-python",
   "name": "python",
   "nbconvert_exporter": "python",
   "pygments_lexer": "ipython3",
   "version": "3.10.12"
  }
 },
 "nbformat": 4,
 "nbformat_minor": 5
}
