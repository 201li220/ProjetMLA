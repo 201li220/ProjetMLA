{
 "cells": [
  {
   "cell_type": "code",
   "execution_count": null,
   "metadata": {},
   "outputs": [],
   "source": [
    "import matplotlib.pyplot as plt\n",
    "import os\n",
    "import numpy as np"
   ]
  },
  {
   "cell_type": "code",
   "execution_count": null,
   "metadata": {},
   "outputs": [],
   "source": [
    "file = '/admin/ProjetMLA/Code_Ugo/Resultats/TopLayers/'\n",
    "Runs = [file+\"Run_TopLayer\"+str(i)for i in range(11)]\n",
    "print(Runs)\n",
    "data = []\n",
    "file_name = []\n",
    "for i in range(len(Runs)):\n",
    "    file = Runs[i]\n",
    "    for files in os.listdir(file):\n",
    "        if files.endswith('.npy'):\n",
    "            file_name.append(files)\n",
    "            path = os.path.join(file,files)\n",
    "            data.append(np.load(path,allow_pickle=True))"
   ]
  },
  {
   "cell_type": "code",
   "execution_count": null,
   "metadata": {},
   "outputs": [],
   "source": [
    "\n",
    "for i in range(len(data)):\n",
    "    plt.plot(data[i][0],label=\"train_accuracy\")\n",
    "    plt.plot(data[i][1],label=\"val_accuracy\")\n",
    "    plt.title(\"Accuracy on \"+file_name[i]+str(np.round(i/2)))\n",
    "    plt.legend()\n",
    "    plt.xlabel(\"epoch\")\n",
    "    plt.ylabel(\"Accuracy\")\n",
    "    plt.show()"
   ]
  },
  {
   "cell_type": "code",
   "execution_count": null,
   "metadata": {},
   "outputs": [],
   "source": [
    "for i in range(len(data)):\n",
    "    plt.plot(data[i][3],label=\"train_loss\")\n",
    "    plt.plot(data[i][4],label=\"val_loss\")\n",
    "    plt.title(\"loss on \"+file_name[i])\n",
    "    plt.legend()\n",
    "    plt.xlabel(\"epoch\")\n",
    "    plt.ylabel(\"loss\")\n",
    "    plt.show()"
   ]
  },
  {
   "cell_type": "code",
   "execution_count": null,
   "metadata": {},
   "outputs": [],
   "source": [
    "for i in range(len(data)):\n",
    "    print('Accuracy at the end of fine tuning on {}: {}'.format(file_name[i],data[i][2][1]))"
   ]
  },
  {
   "cell_type": "markdown",
   "metadata": {},
   "source": [
    "Performance de Bert sur le benchmark\n",
    "\n",
    "\n",
    "CoLA\teval_accuracy\t0.6868686315\n",
    "SST\teval_accuracy\t0.50681818\n",
    "MRPC\teval_f1\t0.80319616\n",
    "QQP\teval_accuracy\t0.646484375484375484375890405"
   ]
  },
  {
   "cell_type": "code",
   "execution_count": null,
   "metadata": {},
   "outputs": [],
   "source": [
    "AcCola = []\n",
    "AcSst2 = []\n",
    "\n",
    "for i in range(int(len(data)/2)):\n",
    "    AcCola.append(data[i][2][1])\n",
    "    AcSst2.append(data[i+1][2][1])\n",
    "\n",
    "size = [24033026, 24034562,24035062, 26394626, 28756994,28758530, 43524866, 57700610, 71876354, 86052098,100227842]\n",
    "\n",
    "plt.semilogx(size,AcCola)\n",
    "plt.scatter(size,AcCola)\n",
    "plt.ylim([0,1])\n",
    "plt.xscale(\"log\")\n",
    "plt.grid()\n",
    "plt.xlabel(\"Num trainable parameters / task\")\n",
    "plt.ylabel(\"Validation Accuracy\")\n",
    "plt.title(\"Accuracy for a fine-tuned embedding with CoLa\")\n",
    "plt.show()\n",
    "\n",
    "\n",
    "plt.semilogx(size,AcSst2)\n",
    "plt.scatter(size,AcSst2)\n",
    "plt.ylim([0,1])\n",
    "plt.xscale(\"log\")\n",
    "plt.grid()\n",
    "plt.xlabel(\"Num trainable parameters / task\")\n",
    "plt.ylabel(\"Validation Accuracy\")\n",
    "plt.title(\"Accuracy for a fine-tuned embedding with Sst2\")\n",
    "plt.show()\n",
    "\n",
    "\n"
   ]
  }
 ],
 "metadata": {
  "language_info": {
   "name": "python"
  }
 },
 "nbformat": 4,
 "nbformat_minor": 2
}
